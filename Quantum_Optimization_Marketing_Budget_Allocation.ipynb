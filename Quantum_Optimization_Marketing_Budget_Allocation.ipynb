{
  "cells": [
    {
      "cell_type": "markdown",
      "metadata": {
        "id": "view-in-github",
        "colab_type": "text"
      },
      "source": [
        "<a href=\"https://colab.research.google.com/github/DavidAlba2627/quantum-budget-optimization/blob/main/Quantum_Optimization_Marketing_Budget_Allocation.ipynb\" target=\"_parent\"><img src=\"https://colab.research.google.com/assets/colab-badge.svg\" alt=\"Open In Colab\"/></a>"
      ]
    },
    {
      "cell_type": "markdown",
      "source": [
        "Install qiskit libraries"
      ],
      "metadata": {
        "id": "VtBigp-nSYAa"
      }
    },
    {
      "cell_type": "code",
      "source": [
        "!pip install qiskit==1.4.1\n",
        "!pip install qiskit-algorithms\n",
        "!pip install qiskit-optimization"
      ],
      "metadata": {
        "id": "wY-R5QOsUBG9"
      },
      "execution_count": null,
      "outputs": []
    },
    {
      "cell_type": "code",
      "source": [
        "import qiskit, qiskit_algorithms, qiskit_optimization\n",
        "print(\"Qiskit:\", qiskit.__version__)\n",
        "print(\"Qiskit Algorithms:\", qiskit_algorithms.__version__)\n",
        "print(\"Qiskit Optimization:\", qiskit_optimization.__version__)"
      ],
      "metadata": {
        "colab": {
          "base_uri": "https://localhost:8080/"
        },
        "id": "gPF8ITbDdhdg",
        "outputId": "7aa36e98-d9e2-4b1e-ab8b-386907d673c5"
      },
      "execution_count": null,
      "outputs": [
        {
          "output_type": "stream",
          "name": "stdout",
          "text": [
            "Qiskit: 1.4.1\n",
            "Qiskit Algorithms: 0.3.1\n",
            "Qiskit Optimization: 0.6.1\n"
          ]
        }
      ]
    },
    {
      "cell_type": "code",
      "execution_count": null,
      "metadata": {
        "id": "8OwRPmoOvaUj"
      },
      "outputs": [],
      "source": [
        "import numpy as np\n",
        "import warnings\n",
        "warnings.filterwarnings('ignore')\n",
        "\n",
        "from qiskit_algorithms.minimum_eigensolvers import QAOA, SamplingVQE, NumPyMinimumEigensolver\n",
        "from qiskit_algorithms.optimizers import COBYLA\n",
        "from qiskit.primitives import Sampler\n",
        "from qiskit_optimization import QuadraticProgram\n",
        "from qiskit_optimization.algorithms import MinimumEigenOptimizer\n",
        "from qiskit_optimization.converters import QuadraticProgramToQubo"
      ]
    },
    {
      "cell_type": "markdown",
      "metadata": {
        "id": "rf_HTuOlvaUn"
      },
      "source": [
        "# 📊 Integer Quadratic Optimization Problem – Marketing Budget Allocation"
      ]
    },
    {
      "cell_type": "markdown",
      "metadata": {
        "id": "DMS3uibxvaUn"
      },
      "source": [
        "We aim to allocate a limited advertising budget across three distinct customer segments to **maximize total utility**, considering:\n",
        "\n",
        "- The **individual return** of each segment\n",
        "- The **saturation effect** (diminishing returns) when investing too much in one segment\n",
        "- The **interaction effects** (synergies or cannibalization) between segments\n"
      ]
    },
    {
      "cell_type": "markdown",
      "source": [
        "## 🧠 Decision Variables\n",
        "\n",
        "Let:\n",
        "\n",
        "- $x_1$ : Budget allocated to **Children**\n",
        "- $x_2$ : Budget allocated to **Single Adults**\n",
        "- $x_3$ : Budget allocated to **Parents**\n",
        "\n",
        "Each variable represents the number of **budget blocks** in units of $\\$1000$, and is restricted to integer values between 0 and 5 ($\\$0$ to $\\$5000$)."
      ],
      "metadata": {
        "id": "SWG5JcUNBhh0"
      }
    },
    {
      "cell_type": "markdown",
      "source": [
        "## 📈 Objective Function: Total Utility\n",
        "\n",
        "We want to **maximize total utility**, defined as:\n",
        "\n",
        "$$\\begin{align}\n",
        "f(x) = \\sum_{i=1}^{3} a_i x_i - \\sum_{i=1}^{3} b_i x_i^2 + \\sum_{i<j} c_{ij} x_i x_j\n",
        "\\end{align}$$\n",
        "\n",
        "\n",
        "With the specific values:\n",
        "\n",
        "- $a = [6.5, 9.0, 7.8]$ — base return per budget unit for each segment\n",
        "\n",
        "- $b = [0.6, 0.9, 0.5]$ — saturation penalties (quadratic)\n",
        "\n",
        "- $c = \\begin{bmatrix}\n",
        "0 & 0.3 & -0.4 \\\\\n",
        "0.3 & 0 & 0.7 \\\\\n",
        "-0.4 & 0.7 & 0 \\\\\n",
        "\\end{bmatrix}$ — interaction coefficients between segments\n",
        "\n",
        "\n",
        "So the function becomes:\n",
        "\n",
        "$$\\begin{align}\n",
        "\\text{Maximize}\\quad{} f(x) = 6.5x_1 + 9.0x_2 + 7.8x_3 - (0.6x_1^2 + 0.9x_2^2 + 0.5x_3^2) + 0.3x_1x_2 - 0.4x_1x_3 + 0.7x_2x_3\n",
        "\\end{align}$$"
      ],
      "metadata": {
        "id": "FIWiYhakBwSE"
      }
    },
    {
      "cell_type": "markdown",
      "source": [
        "## 🔒 Final Optimization Model\n",
        "\n",
        "We solve the following integer quadratic programming problem:\n",
        "\n",
        "$$\\begin{align}\n",
        "\\text{Maximize}\\quad{} & f(x) = 6.5x_1 + 9.0x_2 + 7.8x_3 - (0.6x_1^2 + 0.9x_2^2 + 0.5x_3^2) + 0.3x_1x_2 - 0.4x_1x_3 + 0.7x_2x_3\\\\\n",
        "\\text{subject to}\\quad{} & x_1 + x_2 + x_3 \\leq 10   \\\\\n",
        "                         & 0 \\leq x_1 \\leq 5         \\\\\n",
        "                         & 0 \\leq x_2 \\leq 5         \\\\\n",
        "                         & 0 \\leq x_3 \\leq 5         \\\\\n",
        "\\end{align}$$\n",
        "\n",
        "**By solving this model, we obtain the optimal allocation of advertising budget that maximizes the total expected gain while avoiding over-saturation and leveraging segment interactions.**"
      ],
      "metadata": {
        "id": "CA2zwey5FJrh"
      }
    },
    {
      "cell_type": "markdown",
      "source": [
        "# 🎯 Solving the problem"
      ],
      "metadata": {
        "id": "LdzrGM-rGq7X"
      }
    },
    {
      "cell_type": "markdown",
      "source": [
        "## Defining the quadratic problem using `QuadraticProgram` from `qiskit_optimization`"
      ],
      "metadata": {
        "id": "uIO01ut3Gw85"
      }
    },
    {
      "cell_type": "code",
      "execution_count": null,
      "metadata": {
        "id": "-xNBYH3OvaUu"
      },
      "outputs": [],
      "source": [
        "def budget_allocation_quadratic_program():\n",
        "    # Creating the quadratic model\n",
        "    budget_allocation = QuadraticProgram(name=\"Marketing Budget Allocation\")\n",
        "    # Defining variables and ranges of values (constraints)\n",
        "    budget_allocation.integer_var(name=\"x1\", lowerbound=0, upperbound=5)\n",
        "    budget_allocation.integer_var(name=\"x2\", lowerbound=0, upperbound=5)\n",
        "    budget_allocation.integer_var(name=\"x3\", lowerbound=0, upperbound=5)\n",
        "    # Defining the function to optimize\n",
        "    budget_allocation.maximize(\n",
        "        linear={\"x1\": 6.5, \"x2\": 9, \"x3\": 7.8},\n",
        "        quadratic={(\"x1\", \"x1\"): -0.6, (\"x2\", \"x2\"): -0.9, (\"x3\", \"x3\"): -0.5,\n",
        "         (\"x1\", \"x2\"): 0.3,  (\"x1\", \"x3\"): -0.4, (\"x2\", \"x3\"): 0.7},\n",
        "    )\n",
        "    # Defining the remaining constraints\n",
        "    budget_allocation.linear_constraint(linear={\"x1\": 1, \"x2\": 1, \"x3\": 1}, sense=\"<=\", rhs=10)\n",
        "    return budget_allocation"
      ]
    },
    {
      "cell_type": "markdown",
      "source": [
        "Problem Summary"
      ],
      "metadata": {
        "id": "7_2IN1LLIkvu"
      }
    },
    {
      "cell_type": "code",
      "source": [
        "print(budget_allocation_quadratic_program().export_as_lp_string())"
      ],
      "metadata": {
        "colab": {
          "base_uri": "https://localhost:8080/"
        },
        "id": "bOjGCoPvIG-e",
        "outputId": "8828624c-5555-4f3d-a62f-bb8117b8930c"
      },
      "execution_count": null,
      "outputs": [
        {
          "output_type": "stream",
          "name": "stdout",
          "text": [
            "\\ This file has been generated by DOcplex\n",
            "\\ ENCODING=ISO-8859-1\n",
            "\\Problem name: Marketing Budget Allocation\n",
            "\n",
            "Maximize\n",
            " obj: 6.500000000000 x1 + 9 x2 + 7.800000000000 x3 + [ - 1.200000000000 x1^2\n",
            "      + 0.600000000000 x1*x2 - 0.800000000000 x1*x3 - 1.800000000000 x2^2\n",
            "      + 1.400000000000 x2*x3 - x3^2 ]/2\n",
            "Subject To\n",
            " c0: x1 + x2 + x3 <= 10\n",
            "\n",
            "Bounds\n",
            "       x1 <= 5\n",
            "       x2 <= 5\n",
            "       x3 <= 5\n",
            "\n",
            "Generals\n",
            " x1 x2 x3\n",
            "End\n",
            "\n"
          ]
        }
      ]
    },
    {
      "cell_type": "markdown",
      "metadata": {
        "id": "E71AQOB4vaU1"
      },
      "source": [
        "### Convert to QuadraticPrograms"
      ]
    },
    {
      "cell_type": "markdown",
      "source": [
        "To estimate how many qubits this quadratic program requires, we convert it to an **Ising model** and print the parameter `num_qubits`. An **Ising model** is a special type of system model that is well-suited to quantum computing.\n",
        "\n",
        "Although we won't be using a specific model, the algorithms and classes in `Qiskit` we use internally perform this conversion."
      ],
      "metadata": {
        "id": "rBuSxMeZJif9"
      }
    },
    {
      "cell_type": "code",
      "execution_count": null,
      "metadata": {
        "colab": {
          "base_uri": "https://localhost:8080/"
        },
        "id": "qH5qmmTxvaU2",
        "outputId": "ee1152b3-9dce-433b-c3a1-733443605f3f"
      },
      "outputs": [
        {
          "output_type": "stream",
          "name": "stdout",
          "text": [
            "The number of qubits needed is: 13\n"
          ]
        }
      ],
      "source": [
        "# Estimate the number of qubits needed for the quadratic problem\n",
        "budget_allocation = budget_allocation_quadratic_program()\n",
        "ising_operations, _ = (\n",
        "    QuadraticProgramToQubo().convert(budget_allocation,).to_ising()\n",
        ")\n",
        "print(f\"The number of qubits needed is: {ising_operations.num_qubits}\")"
      ]
    },
    {
      "cell_type": "markdown",
      "metadata": {
        "id": "_LHwFsVpvaU2"
      },
      "source": [
        "## Ways to solve the problem"
      ]
    },
    {
      "cell_type": "markdown",
      "source": [
        "There are three ways to run a quantum algorithm using `Qiskit`:\n",
        "1. In a local simulator on your own computer\n",
        "2. In a cloud-hosted simulator hosted by **IBM**\n",
        "3. On a real quantum computer accessible through **IBM Quantum**\n",
        "\n",
        "All of these are called backends. In all cases, the backend can be easily changed for another as long as the simulator or device has the appropriate resources (number of qubits, etc.)"
      ],
      "metadata": {
        "id": "6WWuhVGzKja7"
      }
    },
    {
      "cell_type": "markdown",
      "source": [
        "We would like to compare our quantum solution with the classical one. The following subsections show how these different methods are implemented to solve the Marketing Budget Allocation problem. The method used for the Quantum solution is the **Quantum Approximate Optimization Algorithm (QAOA)**"
      ],
      "metadata": {
        "id": "5pOA4BzqK-qH"
      }
    },
    {
      "cell_type": "markdown",
      "metadata": {
        "id": "DCDdikScvaU3"
      },
      "source": [
        "### Classical solution"
      ]
    },
    {
      "cell_type": "markdown",
      "source": [
        "The classic solution for this problem can be easily found using `NumPy` and `Qiskit`. The **QUBO problem** can be solved by finding the **minimum eigenvalue** of its underlying **matrix representation**. Fortunately, we don't need to know what this matrix looks like. We just need to pass it to `MinimumEigensolver` and `MinimumEigenOptimizer`\n",
        "\n",
        "The optimizer translates the provided problem into a parameterized representation, which is then passed to the solver. By optimizing the parameters, the solver will eventually yield the minimum eigenvalue for the parameterized representation and, therefore, the solution to the original problem. Here we use a classic `NumPy` solver, the `NumPyMinimumEigensolver`"
      ],
      "metadata": {
        "id": "g_I1NFMGLi88"
      }
    },
    {
      "cell_type": "code",
      "execution_count": null,
      "metadata": {
        "id": "3rfOL3VnvaU3"
      },
      "outputs": [],
      "source": [
        "def get_classical_solution(quadratic_program):\n",
        "    # Create the solver\n",
        "    solver = NumPyMinimumEigensolver()\n",
        "    # Create the optimizer for the solver\n",
        "    optimizer = MinimumEigenOptimizer(solver)\n",
        "    # Obtain the optimizer result\n",
        "    return optimizer.solve(quadratic_program)"
      ]
    },
    {
      "cell_type": "markdown",
      "metadata": {
        "id": "l629JQe7vaU3"
      },
      "source": [
        "If we run the classical method for our problem, we obtain a valid solution that maximizes utility"
      ]
    },
    {
      "cell_type": "code",
      "execution_count": null,
      "metadata": {
        "colab": {
          "base_uri": "https://localhost:8080/"
        },
        "id": "W3M3l6ihvaU3",
        "outputId": "91e70c5d-a585-4ee2-cc24-63e9d252008d"
      },
      "outputs": [
        {
          "output_type": "stream",
          "name": "stdout",
          "text": [
            "##### Solution found using the classical method #####\n",
            "\n",
            "The maximum utility is: $67.2k \n",
            "\n",
            "The budget allocated for each segment is: \n",
            "-- $1k for x1\n",
            "-- $4k for x2\n",
            "-- $5k for x3\n"
          ]
        }
      ],
      "source": [
        "# Obtain classical result\n",
        "classical_result = get_classical_solution(budget_allocation)\n",
        "# Print the result for maximum utility\n",
        "print(\"##### Solution found using the classical method #####\\n\")\n",
        "print(f\"The maximum utility is: ${classical_result.fval}k \\n\")\n",
        "# Print the results for each segment\n",
        "print(f\"The budget allocated for each segment is: \")\n",
        "_segments = [v.name for v in budget_allocation.variables]\n",
        "for segment_id, budget in enumerate(classical_result.x):\n",
        "    print(f\"-- ${int(budget)}k for {_segments[segment_id]}\")"
      ]
    },
    {
      "cell_type": "markdown",
      "metadata": {
        "id": "Jbj8gkhAvaU4"
      },
      "source": [
        "### QAOA Solution"
      ]
    },
    {
      "cell_type": "markdown",
      "source": [
        "To solve our problem using **QAOA**, we just need to replace the classical solver with an instance of the `QAOA` class. Now that we are running a quantum algorithm, we need to tell the solver where to execute the quantum component. This time we are using an instance of `Sampler`. **QAOA** is an iterative algorithm and run multiple times with different internal parameters. The parameters are classically tuned during the optimization step of the computation using the `optimizer`, for which we will use `COBYLA`. To determine how many iterations there are, we define a callback function that runs for each iteration and stores the number of evaluations so far. At the end of our algorithm's execution, we return the result and the number of iterations."
      ],
      "metadata": {
        "id": "f6kveLLkOdg8"
      }
    },
    {
      "cell_type": "code",
      "execution_count": null,
      "metadata": {
        "id": "4mArVx6wvaU4"
      },
      "outputs": [],
      "source": [
        "def get_QAOA_solution_for(quadratic_program, sampler, base_optimizer):\n",
        "    # Counter for evaluation iterations\n",
        "    _eval_count = 0\n",
        "    # Callback function\n",
        "    def callback(eval_count, parameters, mean, std):\n",
        "        nonlocal _eval_count\n",
        "        _eval_count = eval_count\n",
        "\n",
        "    # Create the solver\n",
        "    qaoa_solver = QAOA(sampler, optimizer=base_optimizer, callback=callback)\n",
        "    # Create the optimizer for the solver\n",
        "    eigen_optimizer  = MinimumEigenOptimizer(qaoa_solver)\n",
        "    # Obtain the optimizer result\n",
        "    result = eigen_optimizer.solve(quadratic_program)\n",
        "    return result, _eval_count"
      ]
    },
    {
      "cell_type": "code",
      "execution_count": null,
      "metadata": {
        "colab": {
          "base_uri": "https://localhost:8080/"
        },
        "id": "xOw__sWAvaU4",
        "outputId": "1a136191-c0e1-4d35-d5c1-b92c63ee0cbb"
      },
      "outputs": [
        {
          "output_type": "stream",
          "name": "stdout",
          "text": [
            "##### Solution found using QAOA method #####\n",
            "\n",
            "The maximum utility is: $67.2k \n",
            "\n",
            "The budget allocated for each segment is: \n",
            "-- $1k for x1\n",
            "-- $4k for x2\n",
            "-- $5k for x3\n",
            "\n",
            "Solution obtained in 27 QAOA evaluations\n"
          ]
        }
      ],
      "source": [
        "# Obtain result using QAOA\n",
        "qaoa_result, qaoa_eval_count = get_QAOA_solution_for(budget_allocation, Sampler(), COBYLA())\n",
        "\n",
        "# Print the result for maximum utility\n",
        "print(\"##### Solution found using QAOA method #####\\n\")\n",
        "print(f\"The maximum utility is: ${qaoa_result.fval}k \\n\")\n",
        "# Print the results for each segment\n",
        "print(f\"The budget allocated for each segment is: \")\n",
        "for budget, segment in zip(qaoa_result.x, qaoa_result.variable_names):\n",
        "    print(f\"-- ${int(budget)}k for {segment}\")\n",
        "\n",
        "print(f\"\\nSolution obtained in {qaoa_eval_count} QAOA evaluations\")"
      ]
    }
  ],
  "metadata": {
    "kernelspec": {
      "display_name": "Python 3 (ipykernel)",
      "language": "python",
      "name": "python3"
    },
    "language_info": {
      "codemirror_mode": {
        "name": "ipython",
        "version": 3
      },
      "file_extension": ".py",
      "mimetype": "text/x-python",
      "name": "python",
      "nbconvert_exporter": "python",
      "pygments_lexer": "ipython3",
      "version": "3.11.5"
    },
    "toc": {
      "base_numbering": 1,
      "nav_menu": {},
      "number_sections": true,
      "sideBar": true,
      "skip_h1_title": false,
      "title_cell": "Table of Contents",
      "title_sidebar": "Contents",
      "toc_cell": false,
      "toc_position": {
        "height": "calc(100% - 180px)",
        "left": "10px",
        "top": "150px",
        "width": "195px"
      },
      "toc_section_display": true,
      "toc_window_display": true
    },
    "varInspector": {
      "cols": {
        "lenName": 16,
        "lenType": 16,
        "lenVar": 40
      },
      "kernels_config": {
        "python": {
          "delete_cmd_postfix": "",
          "delete_cmd_prefix": "del ",
          "library": "var_list.py",
          "varRefreshCmd": "print(var_dic_list())"
        },
        "r": {
          "delete_cmd_postfix": ") ",
          "delete_cmd_prefix": "rm(",
          "library": "var_list.r",
          "varRefreshCmd": "cat(var_dic_list()) "
        }
      },
      "oldHeight": 676.85,
      "position": {
        "height": "698.85px",
        "left": "2014px",
        "right": "20px",
        "top": "158px",
        "width": "477px"
      },
      "types_to_exclude": [
        "module",
        "function",
        "builtin_function_or_method",
        "instance",
        "_Feature"
      ],
      "varInspector_section_display": "block",
      "window_display": false
    },
    "colab": {
      "provenance": [],
      "include_colab_link": true
    }
  },
  "nbformat": 4,
  "nbformat_minor": 0
}